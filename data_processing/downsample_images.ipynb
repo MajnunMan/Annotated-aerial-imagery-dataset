{
 "cells": [
  {
   "cell_type": "code",
   "execution_count": null,
   "metadata": {},
   "outputs": [],
   "source": [
    "import json\n",
    "json_file =open(\"annotations1.json\")\n",
    "with open(json_file, \"r+\") as f:\n",
    "    imgs_anns = json.load(f)\n",
    "    f.close()\n",
    "\n",
    "for v in imgs_anns[\"annotations\"]:\n",
    "    print(v[\"bbox\"])\n",
    "  # v[\"bbox\"] = v[\"bbox\"]/2\n",
    "  # v[\"segmentation\"] = v[\"segmentation\"]/2\n",
    "  # v.app\n",
    "\n",
    "# a_file = open(\"annotations-test_2.json\", \"w\")\n",
    "# json.dump(json_object, a_file)\n",
    "# a_file.close()\n"
   ]
  },
  {
   "cell_type": "code",
   "execution_count": 4,
   "metadata": {},
   "outputs": [],
   "source": [
    "import os\n",
    "import json\n",
    "\n",
    "json_file = os.path.join(\"annotations-test.json\")\n",
    "a_file = open(json_file)\n",
    "json_object = json.load(a_file)\n",
    "\n",
    "ann = []\n",
    "for v in json_object[\"annotations\"]:\n",
    "    \n",
    "    bboxes = []\n",
    "    segmentations = []\n",
    "    segm = []\n",
    "    for bbox in  v[\"bbox\"]:\n",
    "        bboxes.append(bbox / 4)\n",
    "        \n",
    "    for s in  v[\"segmentation\"]:\n",
    "        for segmentation in  s:\n",
    "            segm.append(segmentation / 4)\n",
    "    segmentations.append(segm)\n",
    "    \n",
    "    \n",
    "    v[\"bbox\"] = bboxes\n",
    "    v[\"segmentation\"] = segmentations\n",
    "    v[\"area\"] = v[\"area\"]/16\n",
    "    \n",
    "    \n",
    "a_file = open(\"annotations-test_4.json\", \"w\")\n",
    "json.dump(json_object, a_file)\n",
    "a_file.close()\n",
    "\n"
   ]
  },
  {
   "cell_type": "code",
   "execution_count": null,
   "metadata": {},
   "outputs": [],
   "source": []
  }
 ],
 "metadata": {
  "kernelspec": {
   "display_name": "Python 3",
   "language": "python",
   "name": "python3"
  },
  "language_info": {
   "codemirror_mode": {
    "name": "ipython",
    "version": 3
   },
   "file_extension": ".py",
   "mimetype": "text/x-python",
   "name": "python",
   "nbconvert_exporter": "python",
   "pygments_lexer": "ipython3",
   "version": "3.7.1"
  }
 },
 "nbformat": 4,
 "nbformat_minor": 2
}
