{
 "cells": [
  {
   "cell_type": "code",
   "execution_count": 1,
   "metadata": {},
   "outputs": [
    {
     "ename": "TypeError",
     "evalue": "expected str, bytes or os.PathLike object, not _io.TextIOWrapper",
     "output_type": "error",
     "traceback": [
      "\u001b[0;31m---------------------------------------------------------------------------\u001b[0m",
      "\u001b[0;31mTypeError\u001b[0m                                 Traceback (most recent call last)",
      "\u001b[0;32m<ipython-input-1-817052e61792>\u001b[0m in \u001b[0;36m<module>\u001b[0;34m\u001b[0m\n\u001b[1;32m      1\u001b[0m \u001b[0;32mimport\u001b[0m \u001b[0mjson\u001b[0m\u001b[0;34m\u001b[0m\u001b[0;34m\u001b[0m\u001b[0m\n\u001b[1;32m      2\u001b[0m \u001b[0mjson_file\u001b[0m \u001b[0;34m=\u001b[0m\u001b[0mopen\u001b[0m\u001b[0;34m(\u001b[0m\u001b[0;34m\"annotations1.json\"\u001b[0m\u001b[0;34m)\u001b[0m\u001b[0;34m\u001b[0m\u001b[0;34m\u001b[0m\u001b[0m\n\u001b[0;32m----> 3\u001b[0;31m \u001b[0;32mwith\u001b[0m \u001b[0mopen\u001b[0m\u001b[0;34m(\u001b[0m\u001b[0mjson_file\u001b[0m\u001b[0;34m,\u001b[0m \u001b[0;34m\"r+\"\u001b[0m\u001b[0;34m)\u001b[0m \u001b[0;32mas\u001b[0m \u001b[0mf\u001b[0m\u001b[0;34m:\u001b[0m\u001b[0;34m\u001b[0m\u001b[0;34m\u001b[0m\u001b[0m\n\u001b[0m\u001b[1;32m      4\u001b[0m     \u001b[0mimgs_anns\u001b[0m \u001b[0;34m=\u001b[0m \u001b[0mjson\u001b[0m\u001b[0;34m.\u001b[0m\u001b[0mload\u001b[0m\u001b[0;34m(\u001b[0m\u001b[0mf\u001b[0m\u001b[0;34m)\u001b[0m\u001b[0;34m\u001b[0m\u001b[0;34m\u001b[0m\u001b[0m\n\u001b[1;32m      5\u001b[0m     \u001b[0mf\u001b[0m\u001b[0;34m.\u001b[0m\u001b[0mclose\u001b[0m\u001b[0;34m(\u001b[0m\u001b[0;34m)\u001b[0m\u001b[0;34m\u001b[0m\u001b[0;34m\u001b[0m\u001b[0m\n",
      "\u001b[0;31mTypeError\u001b[0m: expected str, bytes or os.PathLike object, not _io.TextIOWrapper"
     ]
    }
   ],
   "source": [
    "import json\n",
    "json_file =open(\"annotations1.json\")\n",
    "with open(json_file, \"r+\") as f:\n",
    "    imgs_anns = json.load(f)\n",
    "    f.close()\n",
    "\n",
    "for v in imgs_anns[\"annotations\"]:\n",
    "    print(v[\"bbox\"])\n",
    "  # v[\"bbox\"] = v[\"bbox\"]/2\n",
    "  # v[\"segmentation\"] = v[\"segmentation\"]/2\n",
    "  # v.app\n",
    "\n",
    "# a_file = open(\"annotations-test_2.json\", \"w\")\n",
    "# json.dump(json_object, a_file)\n",
    "# a_file.close()\n"
   ]
  },
  {
   "cell_type": "code",
   "execution_count": null,
   "metadata": {},
   "outputs": [],
   "source": [
    "import os\n",
    "import json\n",
    "\n",
    "json_file = os.path.join(\"annotations-test.json\")\n",
    "a_file = open(json_file)\n",
    "json_object = json.load(a_file)\n",
    "\n",
    "ann = []\n",
    "for v in json_object[\"annotations\"]:\n",
    "    \n",
    "    bboxes = []\n",
    "    segmentations = []\n",
    "    for bbox in  v[\"bbox\"]:\n",
    "        bboxes.append(bbox / 2)\n",
    "        \n",
    "    for segm in  v[\"segmentation\"]:\n",
    "        for segmentation in  segm:\n",
    "            segm.append(segmentation / 2)\n",
    "    segmentations.append(segm)\n",
    "    \n",
    "    \n",
    "    v[\"bbox\"] = bboxes\n",
    "    v[\"segmentation\"] = segmentations\n",
    "    v[\"area\"] = v[\"area\"]/4\n",
    "    \n",
    "    \n",
    "a_file = open(\"annotations-test_2.json\", \"w\")\n",
    "json.dump(json_object, a_file)\n",
    "a_file.close()\n",
    "\n"
   ]
  },
  {
   "cell_type": "code",
   "execution_count": null,
   "metadata": {},
   "outputs": [],
   "source": []
  }
 ],
 "metadata": {
  "kernelspec": {
   "display_name": "Python 3",
   "language": "python",
   "name": "python3"
  },
  "language_info": {
   "codemirror_mode": {
    "name": "ipython",
    "version": 3
   },
   "file_extension": ".py",
   "mimetype": "text/x-python",
   "name": "python",
   "nbconvert_exporter": "python",
   "pygments_lexer": "ipython3",
   "version": "3.7.1"
  }
 },
 "nbformat": 4,
 "nbformat_minor": 2
}
